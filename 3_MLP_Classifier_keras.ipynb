{
 "cells": [
  {
   "cell_type": "code",
   "execution_count": 1,
   "metadata": {},
   "outputs": [
    {
     "name": "stderr",
     "output_type": "stream",
     "text": [
      "Using TensorFlow backend.\n"
     ]
    }
   ],
   "source": [
    "# Импорт модулей для работы с массивами\n",
    "import numpy as np\n",
    "import pandas as pd\n",
    "\n",
    "# Импорт инструментов подготовки данных, кросвалидации и оценки\n",
    "from sklearn.model_selection import train_test_split \n",
    "from sklearn.model_selection import KFold\n",
    "from sklearn.model_selection import cross_val_score\n",
    "from sklearn.model_selection import GridSearchCV\n",
    "\n",
    "from sklearn.preprocessing import MinMaxScaler\n",
    "from sklearn import preprocessing\n",
    "from sklearn import decomposition\n",
    "\n",
    "# Импорт keras для MLP\n",
    "from keras import Sequential\n",
    "from keras.layers import Dense, Dropout\n",
    "from keras.utils import np_utils"
   ]
  },
  {
   "cell_type": "code",
   "execution_count": 2,
   "metadata": {},
   "outputs": [],
   "source": [
    "# Импорт данных\n",
    "red = pd.read_csv('winequality-red.csv', sep =';')\n",
    "white = pd.read_csv('winequality-white.csv', sep =';')"
   ]
  },
  {
   "cell_type": "code",
   "execution_count": 3,
   "metadata": {},
   "outputs": [],
   "source": [
    "# преобразуем оценку качетсва вина (quality) \n",
    "#в три категории и посмотрим увеличится ли от этого точность работы алгоритмов\n",
    "\n",
    "# 3 - плохое вино от 0 до 4\n",
    "# 2 - среднее вино от 4 до 6 \n",
    "# 1 - хорошее вино от 6 до 10\n",
    "\n",
    "# Преобразуем диапазоны меток quality в 3 категории\n",
    "rating_bins = [0, 4, 6, 10]\n",
    "rating_labels = [3,2,1]\n",
    "\n",
    "red['quality'] = pd.cut(red['quality'], bins=rating_bins, labels=rating_labels)\n",
    "\n",
    "white['quality'] = pd.cut(white['quality'], bins=rating_bins, labels=rating_labels)"
   ]
  },
  {
   "cell_type": "code",
   "execution_count": 4,
   "metadata": {},
   "outputs": [],
   "source": [
    "#отделим столбец с классами (оценкой качетсва quality) от признаков\n",
    "feature = ['fixed acidity','volatile acidity','citric acid','residual sugar','chlorides','free sulfur dioxide',\n",
    "           'total sulfur dioxide','density','pH','sulphates','alcohol']\n",
    "\n",
    "X_red = red[feature]\n",
    "y_red = red['quality']\n",
    "\n",
    "X_white = white[feature]\n",
    "y_white = white['quality']\n",
    "\n",
    "# Масштабирование признаков путём нормализации MinMax\n",
    "X_red = MinMaxScaler().fit_transform(X_red) \n",
    "X_white = MinMaxScaler().fit_transform(X_white) "
   ]
  },
  {
   "cell_type": "code",
   "execution_count": 5,
   "metadata": {},
   "outputs": [],
   "source": [
    "# Разделим на обучающую и тестовую выборки\n",
    "# Красное\n",
    "X_train_r, X_test_r, y_train_r, y_test_r = train_test_split(X_red, y_red, test_size=0.3)\n",
    "\n",
    "# Белое\n",
    "X_train_w, X_test_w, y_train_w, y_test_w = train_test_split(X_white, y_white, test_size=0.3)"
   ]
  },
  {
   "cell_type": "markdown",
   "metadata": {},
   "source": [
    "#### КРАСНОЕ"
   ]
  },
  {
   "cell_type": "code",
   "execution_count": 6,
   "metadata": {},
   "outputs": [],
   "source": [
    "# Преобразуем метки в категории\n",
    "Y_train_r = np_utils.to_categorical(y_train_r, 6)\n",
    "Y_test_r = np_utils.to_categorical(y_test_r, 6)\n",
    "\n",
    "# зададим последовательную модель нейронной сети\n",
    "model_r = Sequential()\n",
    "\n",
    "# Уровни сети (два полносвязных)\n",
    "model_r.add(Dense(20, input_dim=11, activation='relu', kernel_initializer=\"normal\"))\n",
    "model_r.add(Dropout(0.2))\n",
    "model_r.add(Dense(6, activation='softmax', kernel_initializer=\"normal\"))"
   ]
  },
  {
   "cell_type": "code",
   "execution_count": 7,
   "metadata": {},
   "outputs": [
    {
     "name": "stdout",
     "output_type": "stream",
     "text": [
      "_________________________________________________________________\n",
      "Layer (type)                 Output Shape              Param #   \n",
      "=================================================================\n",
      "dense_1 (Dense)              (None, 20)                240       \n",
      "_________________________________________________________________\n",
      "dropout_1 (Dropout)          (None, 20)                0         \n",
      "_________________________________________________________________\n",
      "dense_2 (Dense)              (None, 6)                 126       \n",
      "=================================================================\n",
      "Total params: 366\n",
      "Trainable params: 366\n",
      "Non-trainable params: 0\n",
      "_________________________________________________________________\n",
      "None\n",
      "Точность работы на тестовых данных: 83.12%\n"
     ]
    }
   ],
   "source": [
    "# class_weight = {3: 100,\n",
    "#                 2: 1,\n",
    "#                 1: 100}\n",
    "# Компилим модель\n",
    "model_r.compile(loss='categorical_crossentropy',\n",
    "              optimizer='ADAM', metrics=['accuracy'])\n",
    "\n",
    "print(model_r.summary())\n",
    "\n",
    "# Обучение \n",
    "model_r.fit(X_train_r, Y_train_r, batch_size=400, epochs=300, validation_split=0.2, verbose=0)\n",
    "\n",
    "# Оцениваем качество обучения сети на тестовых данных\n",
    "scores = model_r.evaluate(X_test_r, Y_test_r, verbose=0)\n",
    "print(\"Точность работы на тестовых данных: %.2f%%\" % (scores[1]*100))"
   ]
  },
  {
   "cell_type": "markdown",
   "metadata": {},
   "source": [
    "#### БЕЛОЕ"
   ]
  },
  {
   "cell_type": "code",
   "execution_count": 8,
   "metadata": {},
   "outputs": [],
   "source": [
    "# Преобразуем метки в категории\n",
    "Y_train_w = np_utils.to_categorical(y_train_w, 7)\n",
    "Y_test_w = np_utils.to_categorical(y_test_w, 7)\n",
    "\n",
    "# зададим последовательную модель нейронной сети\n",
    "model_w = Sequential()\n",
    "\n",
    "# Уровни сети (два полносвязных)\n",
    "model_w.add(Dense(20, input_dim=11, activation='relu', kernel_initializer=\"normal\"))\n",
    "model_w.add(Dropout(0.5))\n",
    "model_w.add(Dense(7, activation='softmax', kernel_initializer=\"normal\"))"
   ]
  },
  {
   "cell_type": "code",
   "execution_count": 9,
   "metadata": {},
   "outputs": [
    {
     "name": "stdout",
     "output_type": "stream",
     "text": [
      "_________________________________________________________________\n",
      "Layer (type)                 Output Shape              Param #   \n",
      "=================================================================\n",
      "dense_3 (Dense)              (None, 20)                240       \n",
      "_________________________________________________________________\n",
      "dropout_2 (Dropout)          (None, 20)                0         \n",
      "_________________________________________________________________\n",
      "dense_4 (Dense)              (None, 7)                 147       \n",
      "=================================================================\n",
      "Total params: 387\n",
      "Trainable params: 387\n",
      "Non-trainable params: 0\n",
      "_________________________________________________________________\n",
      "None\n",
      "Точность работы на тестовых данных: 73.06%\n"
     ]
    }
   ],
   "source": [
    "# зададим веса классов\n",
    "# class_weight = {3: 2.,\n",
    "#                 2: 1.,\n",
    "#                 1: 1.8}\n",
    "\n",
    "# Компилим модель\n",
    "model_w.compile(loss='categorical_crossentropy',\n",
    "              optimizer='ADAM', metrics=['accuracy'])\n",
    "\n",
    "print(model_w.summary())\n",
    "\n",
    "# Обучение \n",
    "model_w.fit(X_train_w, Y_train_w, batch_size=20, epochs=20, validation_split=0.2, verbose=0)\n",
    "\n",
    "# Оцениваем качество обучения сети на тестовых данных\n",
    "scores = model_w.evaluate(X_test_w, Y_test_w, verbose=0)\n",
    "print(\"Точность работы на тестовых данных: %.2f%%\" % (scores[1]*100))"
   ]
  },
  {
   "cell_type": "markdown",
   "metadata": {},
   "source": [
    "##### MLP не обладает преимуществами в accuracy по сравнению с ансамблевыми методами, рассмотренными в ноутбуке 2. Быть может необходимы дополнительные тесты и более глубокое исследование."
   ]
  }
 ],
 "metadata": {
  "kernelspec": {
   "display_name": "Python 3",
   "language": "python",
   "name": "python3"
  },
  "language_info": {
   "codemirror_mode": {
    "name": "ipython",
    "version": 3
   },
   "file_extension": ".py",
   "mimetype": "text/x-python",
   "name": "python",
   "nbconvert_exporter": "python",
   "pygments_lexer": "ipython3",
   "version": "3.6.7"
  }
 },
 "nbformat": 4,
 "nbformat_minor": 2
}
