{
 "cells": [
  {
   "cell_type": "code",
   "execution_count": 1,
   "metadata": {},
   "outputs": [],
   "source": [
    "# Импорт модулей для работы с массивами\n",
    "import numpy as np\n",
    "import pandas as pd\n",
    "\n",
    "# Импорт средств построений графиков\n",
    "import seaborn as sns\n",
    "from pylab import rcParams\n",
    "from matplotlib import pyplot\n",
    "\n",
    "# Импорт инструментов подготовки данных, кросвалидации и оценки\n",
    "from sklearn.model_selection import train_test_split \n",
    "from sklearn.model_selection import KFold\n",
    "from sklearn.model_selection import cross_val_score\n",
    "from sklearn.model_selection import GridSearchCV\n",
    "\n",
    "from sklearn.preprocessing import MinMaxScaler\n",
    "from sklearn import preprocessing\n",
    "from sklearn import decomposition\n",
    "from sklearn.metrics import accuracy_score\n",
    "from sklearn.metrics import classification_report\n",
    "from sklearn.metrics import confusion_matrix\n",
    "\n",
    "# Импорт классификаторов из sklearn\n",
    "from sklearn.linear_model import LogisticRegression\n",
    "from sklearn.tree import DecisionTreeClassifier\n",
    "from sklearn.neighbors import KNeighborsClassifier\n",
    "from sklearn.discriminant_analysis import LinearDiscriminantAnalysis\n",
    "from sklearn.naive_bayes import GaussianNB\n",
    "from sklearn.svm import SVC\n",
    "from sklearn.ensemble import BaggingClassifier\n",
    "from sklearn.ensemble import RandomForestClassifier\n",
    "from sklearn.ensemble import ExtraTreesClassifier\n",
    "from sklearn.ensemble import AdaBoostClassifier\n",
    "from sklearn.ensemble import GradientBoostingClassifier\n",
    "\n",
    "from sklearn.externals.joblib import dump\n",
    "from sklearn.externals.joblib import load\n",
    "\n",
    "from imblearn.over_sampling import RandomOverSampler\n",
    "# Генератор псевдослучайной последовательности \n",
    "seed = 228\n",
    "\n",
    "import warnings\n",
    "warnings.filterwarnings('ignore')"
   ]
  },
  {
   "cell_type": "code",
   "execution_count": 2,
   "metadata": {},
   "outputs": [],
   "source": [
    "# Импорт данных\n",
    "red = pd.read_csv('winequality-red.csv', sep =';')\n",
    "white = pd.read_csv('winequality-white.csv', sep =';')"
   ]
  },
  {
   "cell_type": "code",
   "execution_count": 3,
   "metadata": {},
   "outputs": [],
   "source": [
    "# выделим отдельно признаки\n",
    "feature = ['fixed acidity','volatile acidity','citric acid','residual sugar','chlorides','free sulfur dioxide',\n",
    "           'total sulfur dioxide','density','pH','sulphates','alcohol']\n",
    "\n",
    "# Разделим массивы признаков и метоки классов\n",
    "X_red = red[feature]\n",
    "y_red = red['quality']\n",
    "\n",
    "X_white = white[feature]\n",
    "y_white = white['quality']\n",
    "\n",
    "# Масштабирование признаков путём нормализации MinMax\n",
    "X_red = MinMaxScaler().fit_transform(X_red) \n",
    "X_white = MinMaxScaler().fit_transform(X_white) "
   ]
  },
  {
   "cell_type": "code",
   "execution_count": 4,
   "metadata": {},
   "outputs": [],
   "source": [
    "# Разделим на обучающую и тестовую выборки\n",
    "# Красное\n",
    "X_train_r, X_test_r, y_train_r, y_test_r = train_test_split(X_red, y_red, test_size=0.3)\n",
    "\n",
    "# Белое\n",
    "X_train_w, X_test_w, y_train_w, y_test_w = train_test_split(X_white, y_white, test_size=0.3)"
   ]
  },
  {
   "cell_type": "markdown",
   "metadata": {},
   "source": [
    "#### Обучение группы моделей из sklearn"
   ]
  },
  {
   "cell_type": "code",
   "execution_count": 5,
   "metadata": {},
   "outputs": [],
   "source": [
    "# Запустим с 3-fold кросс валидацией\n",
    "num_folds = 3\n",
    "# В качестве метрики используем accuracy \n",
    "scoring = 'accuracy'"
   ]
  },
  {
   "cell_type": "code",
   "execution_count": 6,
   "metadata": {},
   "outputs": [],
   "source": [
    "# Зададим множество ML алгоритмов из sklearn\n",
    "\n",
    "models = []\n",
    "models.append(('LinearDiscriminant', LinearDiscriminantAnalysis()))\n",
    "models.append(('DecisionTree......', DecisionTreeClassifier(random_state=seed)))\n",
    "models.append(('GaussianNB........', GaussianNB()))\n",
    "models.append(('KNeighbors........', KNeighborsClassifier()))\n",
    "models.append(('SupportVector.....', SVC(random_state=seed, gamma = 'auto')))\n",
    "models.append(('Bagging...........', BaggingClassifier(random_state=seed)))\n",
    "models.append(('RandomForest......', RandomForestClassifier(random_state=seed)))\n",
    "models.append(('ExtraTrees........', ExtraTreesClassifier(random_state=seed)))\n",
    "models.append(('AdaBoost..........', AdaBoostClassifier(random_state=seed)))\n",
    "models.append(('GradientBoosting..', GradientBoostingClassifier(random_state=seed)))\n",
    "\n",
    "# массивы для результатов\n",
    "results = []\n",
    "names = []\n",
    "metrics = []"
   ]
  },
  {
   "cell_type": "code",
   "execution_count": 7,
   "metadata": {},
   "outputs": [
    {
     "name": "stdout",
     "output_type": "stream",
     "text": [
      "для Красного вина результат классификации: \n",
      "LinearDiscriminant: 0.577301 (0.018617)\n",
      "DecisionTree......: 0.553172 (0.017828)\n",
      "GaussianNB........: 0.529937 (0.021596)\n",
      "KNeighbors........: 0.554066 (0.028569)\n",
      "SupportVector.....: 0.567471 (0.008847)\n",
      "Bagging...........: 0.601430 (0.024013)\n",
      "RandomForest......: 0.600536 (0.017512)\n",
      "ExtraTrees........: 0.614835 (0.012056)\n",
      "AdaBoost..........: 0.547811 (0.015530)\n",
      "GradientBoosting..: 0.621984 (0.017918)\n"
     ]
    }
   ],
   "source": [
    "# Сгенирируем модели поочередно с учетом кросс-валидации для Красного вина\n",
    "print('для Красного вина результат классификации: ')\n",
    "\n",
    "for name, model in models:\n",
    "    \n",
    "    # кросс-валидация\n",
    "    kfold = KFold(n_splits=num_folds, random_state=seed)\n",
    "    \n",
    "    # оценка результатов\n",
    "    cv_results = cross_val_score(model, X_train_r, y_train_r, cv=kfold, scoring=scoring)\n",
    "    \n",
    "    # добавление результатов в массив\n",
    "    results.append(cv_results)\n",
    "    names.append(name)\n",
    "    metrics.append(cv_results.mean())\n",
    "    \n",
    "    # формирование сообщения\n",
    "    output_message= \"%s: %f (%f)\" % (name, cv_results.mean(), cv_results.std())\n",
    "    \n",
    "    print(output_message)"
   ]
  },
  {
   "cell_type": "code",
   "execution_count": 8,
   "metadata": {},
   "outputs": [
    {
     "name": "stdout",
     "output_type": "stream",
     "text": [
      "для Белого вина результат классификации: \n",
      "LinearDiscriminant: 0.530931 (0.029800)\n",
      "DecisionTree......: 0.535885 (0.010240)\n",
      "GaussianNB........: 0.436989 (0.002929)\n",
      "KNeighbors........: 0.539681 (0.025135)\n",
      "SupportVector.....: 0.499713 (0.022997)\n",
      "Bagging...........: 0.587812 (0.020306)\n",
      "RandomForest......: 0.610856 (0.010607)\n",
      "ExtraTrees........: 0.610274 (0.022644)\n",
      "AdaBoost..........: 0.442832 (0.021042)\n",
      "GradientBoosting..: 0.583440 (0.025227)\n"
     ]
    }
   ],
   "source": [
    "# Сгенирируем модели поочередно с учетом кросс-валидации для Белого вина\n",
    "print('для Белого вина результат классификации: ')\n",
    "\n",
    "for name, model in models:\n",
    "    \n",
    "    # кросс-валидация\n",
    "    kfold = KFold(n_splits=num_folds, random_state=seed)\n",
    "    \n",
    "    # оценка результатов\n",
    "    cv_results = cross_val_score(model, X_train_w, y_train_w, cv=kfold, scoring=scoring)\n",
    "    \n",
    "    # добавление результатов в массив\n",
    "    results.append(cv_results)\n",
    "    names.append(name)\n",
    "    metrics.append(cv_results.mean())\n",
    "    \n",
    "    # формирование сообщения\n",
    "    output_message= \"%s: %f (%f)\" % (name, cv_results.mean(), cv_results.std())\n",
    "    \n",
    "    print(output_message)"
   ]
  },
  {
   "cell_type": "markdown",
   "metadata": {},
   "source": [
    "#### В качестве промежуточного вывода: слишком много классов при том классы между собой несбалансированы имеет смысл использовать компенсирующие методы, undersampling или oversampling. Но так как Undersampling фактически сократит размер выборки (а у красного вина она и так не большая) его использовать не стоит. Для Oversampling'а мало значений недостающих классов (как видно из ноутбука с анализом датасета). \n",
    "\n",
    "#### Сделаем тривиально-сократим количество классов."
   ]
  },
  {
   "cell_type": "code",
   "execution_count": 9,
   "metadata": {},
   "outputs": [],
   "source": [
    "# преобразуем оценку качетсва вина (quality) \n",
    "#в три категории и посмотрим увеличится ли от этого точность работы алгоритмов\n",
    "\n",
    "# 3 - плохое вино от 0 до 4\n",
    "# 2 - среднее вино от 4 до 6 \n",
    "# 1 - хорошее вино от 6 до 10\n",
    "\n",
    "# Преобразуем диапазоны меток quality в 3 категории\n",
    "rating_bins = [0, 4, 6, 10]\n",
    "rating_labels = [3,2,1]\n",
    "\n",
    "red['quality'] = pd.cut(red['quality'], bins=rating_bins, labels=rating_labels)\n",
    "white['quality'] = pd.cut(white['quality'], bins=rating_bins, labels=rating_labels)"
   ]
  },
  {
   "cell_type": "markdown",
   "metadata": {},
   "source": [
    "### Проверка на множестве алгоритмов после преобразования классов"
   ]
  },
  {
   "cell_type": "code",
   "execution_count": 10,
   "metadata": {},
   "outputs": [],
   "source": [
    "# так как вносили изминения в исходный pandas data frame сформируем еще раз тренировочную и тестовую выборки\n",
    "\n",
    "X_red = red[feature]\n",
    "y_red = red['quality']\n",
    "\n",
    "X_white = white[feature]\n",
    "y_white = white['quality']\n",
    "\n",
    "# Масштабирование признаков путём нормализации MinMax\n",
    "X_red = MinMaxScaler().fit_transform(X_red) \n",
    "X_white = MinMaxScaler().fit_transform(X_white) \n",
    "\n",
    "# Разделим на обучающую и тестовую выборки\n",
    "# Красное\n",
    "X_train_r, X_test_r, y_train_r, y_test_r = train_test_split(X_red, y_red, test_size=0.3)\n",
    "\n",
    "# Белое\n",
    "X_train_w, X_test_w, y_train_w, y_test_w = train_test_split(X_white, y_white, test_size=0.3)"
   ]
  },
  {
   "cell_type": "code",
   "execution_count": 11,
   "metadata": {},
   "outputs": [
    {
     "name": "stdout",
     "output_type": "stream",
     "text": [
      "для Красного вина результат классификации: \n",
      "LinearDiscriminant: 0.825737 (0.023166)\n",
      "DecisionTree......: 0.812332 (0.019456)\n",
      "GaussianNB........: 0.780161 (0.013670)\n",
      "KNeighbors........: 0.823056 (0.010031)\n",
      "SupportVector.....: 0.815907 (0.023406)\n",
      "Bagging...........: 0.858803 (0.010345)\n",
      "RandomForest......: 0.840929 (0.016135)\n",
      "ExtraTrees........: 0.842717 (0.014243)\n",
      "AdaBoost..........: 0.740840 (0.016430)\n",
      "GradientBoosting..: 0.851653 (0.003344)\n"
     ]
    }
   ],
   "source": [
    "# Сгенирируем модели поочередно с учетом кросс-валидации для Красного вина\n",
    "print('для Красного вина результат классификации: ')\n",
    "\n",
    "for name, model in models:\n",
    "    \n",
    "    # кросс-валидация\n",
    "    kfold = KFold(n_splits=num_folds, random_state=seed)\n",
    "    \n",
    "    # оценка результатов\n",
    "    cv_results = cross_val_score(model, X_train_r, y_train_r, cv=kfold, scoring=scoring)\n",
    "    \n",
    "    # добавление результатов в массив\n",
    "    results.append(cv_results)\n",
    "    names.append(name)\n",
    "    metrics.append(cv_results.mean())\n",
    "    \n",
    "    # формирование сообщения\n",
    "    output_message= \"%s: %f (%f)\" % (name, cv_results.mean(), cv_results.std())\n",
    "    \n",
    "    print(output_message)"
   ]
  },
  {
   "cell_type": "code",
   "execution_count": 12,
   "metadata": {},
   "outputs": [
    {
     "name": "stdout",
     "output_type": "stream",
     "text": [
      "для Белого вина результат классификации: \n",
      "LinearDiscriminant: 0.754956 (0.008218)\n",
      "DecisionTree......: 0.750581 (0.006189)\n",
      "GaussianNB........: 0.673571 (0.004288)\n",
      "KNeighbors........: 0.764295 (0.006919)\n",
      "SupportVector.....: 0.740373 (0.008152)\n",
      "Bagging...........: 0.802217 (0.001431)\n",
      "RandomForest......: 0.806303 (0.011719)\n",
      "ExtraTrees........: 0.811553 (0.004724)\n",
      "AdaBoost..........: 0.727246 (0.003942)\n",
      "GradientBoosting..: 0.790256 (0.004795)\n"
     ]
    }
   ],
   "source": [
    "# Сгенирируем модели поочередно с учетом кросс-валидации для Белого вина\n",
    "print('для Белого вина результат классификации: ')\n",
    "\n",
    "for name, model in models:\n",
    "    \n",
    "    # кросс-валидация\n",
    "    kfold = KFold(n_splits=num_folds, random_state=seed)\n",
    "    \n",
    "    # оценка результатов\n",
    "    cv_results = cross_val_score(model, X_train_w, y_train_w, cv=kfold, scoring=scoring)\n",
    "    \n",
    "    # добавление результатов в массив\n",
    "    results.append(cv_results)\n",
    "    names.append(name)\n",
    "    metrics.append(cv_results.mean())\n",
    "    \n",
    "    # формирование сообщения\n",
    "    output_message= \"%s: %f (%f)\" % (name, cv_results.mean(), cv_results.std())\n",
    "    \n",
    "    print(output_message)"
   ]
  },
  {
   "cell_type": "markdown",
   "metadata": {},
   "source": [
    "Как видно из оценок, accuracy после уменьшения количества классов стала значительно выше."
   ]
  },
  {
   "cell_type": "markdown",
   "metadata": {},
   "source": [
    "#### Выполним подстройку праметров некоторых наиболее точных классификаторов с помощью GridSearch \n",
    "#### Красное вино"
   ]
  },
  {
   "cell_type": "code",
   "execution_count": 13,
   "metadata": {},
   "outputs": [],
   "source": [
    "# зададим массивы для сравнения результатов подстройки\n",
    "results_red = []\n",
    "names_red = []"
   ]
  },
  {
   "cell_type": "code",
   "execution_count": 14,
   "metadata": {},
   "outputs": [
    {
     "name": "stdout",
     "output_type": "stream",
     "text": [
      "Для красного вина accuracy RandomForest:\n",
      "Best: 0.858803 using {'max_depth': 12, 'n_estimators': 600}\n",
      "0.819482 (0.026480) with: {'max_depth': 2, 'n_estimators': 50}\n",
      "0.818588 (0.025653) with: {'max_depth': 2, 'n_estimators': 100}\n",
      "0.821269 (0.028232) with: {'max_depth': 2, 'n_estimators': 200}\n",
      "0.819482 (0.026116) with: {'max_depth': 2, 'n_estimators': 400}\n",
      "0.822163 (0.028569) with: {'max_depth': 2, 'n_estimators': 600}\n",
      "0.822163 (0.028569) with: {'max_depth': 2, 'n_estimators': 800}\n",
      "0.822163 (0.028569) with: {'max_depth': 2, 'n_estimators': 900}\n",
      "0.833780 (0.020882) with: {'max_depth': 4, 'n_estimators': 50}\n",
      "0.843610 (0.025931) with: {'max_depth': 4, 'n_estimators': 100}\n",
      "0.840036 (0.025371) with: {'max_depth': 4, 'n_estimators': 200}\n",
      "0.839142 (0.024669) with: {'max_depth': 4, 'n_estimators': 400}\n",
      "0.839142 (0.024669) with: {'max_depth': 4, 'n_estimators': 600}\n",
      "0.840036 (0.023406) with: {'max_depth': 4, 'n_estimators': 800}\n",
      "0.840036 (0.023406) with: {'max_depth': 4, 'n_estimators': 900}\n",
      "0.840036 (0.023406) with: {'max_depth': 6, 'n_estimators': 50}\n",
      "0.846291 (0.018617) with: {'max_depth': 6, 'n_estimators': 100}\n",
      "0.848079 (0.017828) with: {'max_depth': 6, 'n_estimators': 200}\n",
      "0.847185 (0.019083) with: {'max_depth': 6, 'n_estimators': 400}\n",
      "0.847185 (0.017097) with: {'max_depth': 6, 'n_estimators': 600}\n",
      "0.845398 (0.015836) with: {'max_depth': 6, 'n_estimators': 800}\n",
      "0.846291 (0.016575) with: {'max_depth': 6, 'n_estimators': 900}\n",
      "0.848972 (0.012638) with: {'max_depth': 8, 'n_estimators': 50}\n",
      "0.850760 (0.017828) with: {'max_depth': 8, 'n_estimators': 100}\n",
      "0.851653 (0.016430) with: {'max_depth': 8, 'n_estimators': 200}\n",
      "0.848079 (0.018227) with: {'max_depth': 8, 'n_estimators': 400}\n",
      "0.852547 (0.013670) with: {'max_depth': 8, 'n_estimators': 600}\n",
      "0.854334 (0.013375) with: {'max_depth': 8, 'n_estimators': 800}\n",
      "0.855228 (0.013670) with: {'max_depth': 8, 'n_estimators': 900}\n",
      "0.853441 (0.010345) with: {'max_depth': 10, 'n_estimators': 50}\n",
      "0.855228 (0.017097) with: {'max_depth': 10, 'n_estimators': 100}\n",
      "0.854334 (0.013375) with: {'max_depth': 10, 'n_estimators': 200}\n",
      "0.854334 (0.017003) with: {'max_depth': 10, 'n_estimators': 400}\n",
      "0.856122 (0.014575) with: {'max_depth': 10, 'n_estimators': 600}\n",
      "0.856122 (0.014243) with: {'max_depth': 10, 'n_estimators': 800}\n",
      "0.856122 (0.014243) with: {'max_depth': 10, 'n_estimators': 900}\n",
      "0.847185 (0.018957) with: {'max_depth': 12, 'n_estimators': 50}\n",
      "0.851653 (0.020339) with: {'max_depth': 12, 'n_estimators': 100}\n",
      "0.855228 (0.017097) with: {'max_depth': 12, 'n_estimators': 200}\n",
      "0.856122 (0.013902) with: {'max_depth': 12, 'n_estimators': 400}\n",
      "0.858803 (0.014073) with: {'max_depth': 12, 'n_estimators': 600}\n",
      "0.857015 (0.009114) with: {'max_depth': 12, 'n_estimators': 800}\n",
      "0.857909 (0.011583) with: {'max_depth': 12, 'n_estimators': 900}\n"
     ]
    }
   ],
   "source": [
    "# С помощью инструмента GridSearch выполним подбор параметров для красного вина\n",
    "print('Для красного вина accuracy RandomForest:')\n",
    "\n",
    "# задание параметров сетки\n",
    "paramGrid1 = dict(n_estimators=np.array([50,100,200,400,600,800,900]), max_depth = [2,4,6,8,10,12] )\n",
    "\n",
    "# зададим модель\n",
    "model1 = RandomForestClassifier(random_state=seed)\n",
    "\n",
    "# кросс-валидация\n",
    "kfold = KFold(n_splits=num_folds, random_state=seed)\n",
    "\n",
    "# сетка\n",
    "grid1 = GridSearchCV(estimator=model1, param_grid=paramGrid1, scoring=scoring, cv=kfold)\n",
    "\n",
    "#результаты сетки\n",
    "grid_result1 = grid1.fit(X_train_r, y_train_r)\n",
    "\n",
    "print(\"Best: %f using %s\" % (grid_result1.best_score_, grid_result1.best_params_))\n",
    "\n",
    "# сохранение в массив результатов\n",
    "results_red.append(grid_result1.cv_results_['mean_test_score'])\n",
    "names_red.append('RandomForest')\n",
    "\n",
    "# переменные для вывода параметров\n",
    "means = grid_result1.cv_results_['mean_test_score']\n",
    "stds = grid_result1.cv_results_['std_test_score']\n",
    "params = grid_result1.cv_results_['params']\n",
    "\n",
    "# Вывод оценок после подбора параметров\n",
    "for mean, stdev, param in zip(means, stds, params):\n",
    "    print(\"%f (%f) with: %r\" % (mean, stdev, param))"
   ]
  },
  {
   "cell_type": "code",
   "execution_count": 15,
   "metadata": {},
   "outputs": [
    {
     "name": "stdout",
     "output_type": "stream",
     "text": [
      "Для красного вина accuracy ExtraTrees:\n",
      "Best: 0.855228 using {'max_depth': 12, 'n_estimators': 50}\n",
      "0.815907 (0.023406) with: {'max_depth': 2, 'n_estimators': 50}\n",
      "0.815907 (0.023406) with: {'max_depth': 2, 'n_estimators': 100}\n",
      "0.815907 (0.023406) with: {'max_depth': 2, 'n_estimators': 200}\n",
      "0.815907 (0.023406) with: {'max_depth': 2, 'n_estimators': 400}\n",
      "0.815907 (0.023406) with: {'max_depth': 2, 'n_estimators': 600}\n",
      "0.815907 (0.023406) with: {'max_depth': 2, 'n_estimators': 800}\n",
      "0.815907 (0.023406) with: {'max_depth': 2, 'n_estimators': 900}\n",
      "0.818588 (0.025371) with: {'max_depth': 4, 'n_estimators': 50}\n",
      "0.816801 (0.024112) with: {'max_depth': 4, 'n_estimators': 100}\n",
      "0.817694 (0.024669) with: {'max_depth': 4, 'n_estimators': 200}\n",
      "0.817694 (0.024669) with: {'max_depth': 4, 'n_estimators': 400}\n",
      "0.817694 (0.024669) with: {'max_depth': 4, 'n_estimators': 600}\n",
      "0.817694 (0.024669) with: {'max_depth': 4, 'n_estimators': 800}\n",
      "0.817694 (0.024669) with: {'max_depth': 4, 'n_estimators': 900}\n",
      "0.827525 (0.026480) with: {'max_depth': 6, 'n_estimators': 50}\n",
      "0.819482 (0.025931) with: {'max_depth': 6, 'n_estimators': 100}\n",
      "0.819482 (0.026116) with: {'max_depth': 6, 'n_estimators': 200}\n",
      "0.819482 (0.028147) with: {'max_depth': 6, 'n_estimators': 400}\n",
      "0.819482 (0.028147) with: {'max_depth': 6, 'n_estimators': 600}\n",
      "0.820375 (0.028958) with: {'max_depth': 6, 'n_estimators': 800}\n",
      "0.819482 (0.028569) with: {'max_depth': 6, 'n_estimators': 900}\n",
      "0.844504 (0.027341) with: {'max_depth': 8, 'n_estimators': 50}\n",
      "0.838248 (0.026480) with: {'max_depth': 8, 'n_estimators': 100}\n",
      "0.837355 (0.027718) with: {'max_depth': 8, 'n_estimators': 200}\n",
      "0.835567 (0.028147) with: {'max_depth': 8, 'n_estimators': 400}\n",
      "0.834674 (0.027370) with: {'max_depth': 8, 'n_estimators': 600}\n",
      "0.835567 (0.028147) with: {'max_depth': 8, 'n_estimators': 800}\n",
      "0.834674 (0.027370) with: {'max_depth': 8, 'n_estimators': 900}\n",
      "0.846291 (0.022359) with: {'max_depth': 10, 'n_estimators': 50}\n",
      "0.850760 (0.023610) with: {'max_depth': 10, 'n_estimators': 100}\n",
      "0.853441 (0.025653) with: {'max_depth': 10, 'n_estimators': 200}\n",
      "0.851653 (0.024112) with: {'max_depth': 10, 'n_estimators': 400}\n",
      "0.848972 (0.022144) with: {'max_depth': 10, 'n_estimators': 600}\n",
      "0.849866 (0.022854) with: {'max_depth': 10, 'n_estimators': 800}\n",
      "0.848972 (0.024112) with: {'max_depth': 10, 'n_estimators': 900}\n",
      "0.855228 (0.018957) with: {'max_depth': 12, 'n_estimators': 50}\n",
      "0.853441 (0.023406) with: {'max_depth': 12, 'n_estimators': 100}\n",
      "0.852547 (0.024669) with: {'max_depth': 12, 'n_estimators': 200}\n",
      "0.852547 (0.022749) with: {'max_depth': 12, 'n_estimators': 400}\n",
      "0.853441 (0.023406) with: {'max_depth': 12, 'n_estimators': 600}\n",
      "0.854334 (0.024013) with: {'max_depth': 12, 'n_estimators': 800}\n",
      "0.853441 (0.023406) with: {'max_depth': 12, 'n_estimators': 900}\n"
     ]
    }
   ],
   "source": [
    "# С помощью инструмента GridSearch выполним подбор параметров для красного вина\n",
    "print('Для красного вина accuracy ExtraTrees:')\n",
    "\n",
    "# задание параметров сетки\n",
    "paramGrid2 = dict(n_estimators=np.array([50,100,200,400,600,800,900]), max_depth = [2,4,6,8,10,12] )\n",
    "\n",
    "# зададим модель\n",
    "model2 = ExtraTreesClassifier(random_state=seed)\n",
    "\n",
    "# кросс-валидация\n",
    "kfold = KFold(n_splits=num_folds, random_state=seed)\n",
    "\n",
    "# сетка\n",
    "grid2 = GridSearchCV(estimator=model2, param_grid=paramGrid2, scoring=scoring, cv=kfold)\n",
    "\n",
    "#результаты сетки\n",
    "grid_result2 = grid2.fit(X_train_r, y_train_r)\n",
    "\n",
    "print(\"Best: %f using %s\" % (grid_result2.best_score_, grid_result2.best_params_))\n",
    "\n",
    "# сохранение в массив результатов\n",
    "results_red.append(grid_result2.cv_results_['mean_test_score'])\n",
    "names_red.append('ExtraTrees')\n",
    "\n",
    "# переменные для вывода параметров\n",
    "means = grid_result2.cv_results_['mean_test_score']\n",
    "stds = grid_result2.cv_results_['std_test_score']\n",
    "params = grid_result2.cv_results_['params']\n",
    "\n",
    "# Вывод парметров подбора параметров\n",
    "for mean, stdev, param in zip(means, stds, params):\n",
    "    print(\"%f (%f) with: %r\" % (mean, stdev, param))"
   ]
  },
  {
   "cell_type": "markdown",
   "metadata": {},
   "source": [
    "#### Сравним алгоритмы с помощью Boxplot"
   ]
  },
  {
   "cell_type": "code",
   "execution_count": 16,
   "metadata": {},
   "outputs": [
    {
     "data": {
      "image/png": "[encoded data removed]",
      "text/plain": [
       "<Figure size 432x288 with 1 Axes>"
      ]
     },
     "metadata": {
      "needs_background": "light"
     },
     "output_type": "display_data"
    }
   ],
   "source": [
    "fig = pyplot.figure()\n",
    "fig.suptitle('Сравнение алгоритмов после подстройки')\n",
    "ax = fig.add_subplot(111)\n",
    "pyplot.boxplot(results_red)\n",
    "ax.set_xticklabels(names_red)\n",
    "pyplot.show()"
   ]
  },
  {
   "cell_type": "markdown",
   "metadata": {},
   "source": [
    "#### для оценки красного вина наивысшую accuracy имеет RandomForest Classifier"
   ]
  },
  {
   "cell_type": "markdown",
   "metadata": {},
   "source": [
    "#### Белое вино"
   ]
  },
  {
   "cell_type": "code",
   "execution_count": 17,
   "metadata": {},
   "outputs": [],
   "source": [
    "# зададим массивы для сравнения результатов подстройки\n",
    "results_white = []\n",
    "names_white = []"
   ]
  },
  {
   "cell_type": "code",
   "execution_count": 18,
   "metadata": {},
   "outputs": [
    {
     "name": "stdout",
     "output_type": "stream",
     "text": [
      "Для красного вина accuracy BaggingClassifier:\n",
      "Best: 0.822637 using {'n_estimators': 400}\n",
      "0.811844 (0.001815) with: {'n_estimators': 50}\n",
      "0.818261 (0.006023) with: {'n_estimators': 100}\n",
      "0.818845 (0.001494) with: {'n_estimators': 200}\n",
      "0.822637 (0.001108) with: {'n_estimators': 400}\n",
      "0.822345 (0.001868) with: {'n_estimators': 600}\n",
      "0.820887 (0.001858) with: {'n_estimators': 800}\n",
      "0.820012 (0.002925) with: {'n_estimators': 900}\n"
     ]
    }
   ],
   "source": [
    "# С помощью инструмента GridSearch выполним подбор параметров для белого вина\n",
    "print('Для красного вина accuracy BaggingClassifier:')\n",
    "\n",
    "# задание параметров сетки\n",
    "paramGrid3 = dict(n_estimators=np.array([50,100,200,400,600,800,900]))\n",
    "\n",
    "# зададим модель\n",
    "model3 = BaggingClassifier(random_state=seed)\n",
    "\n",
    "# кросс-валидация\n",
    "kfold = KFold(n_splits=num_folds, random_state=seed)\n",
    "\n",
    "# сетка\n",
    "grid3 = GridSearchCV(estimator=model3, param_grid=paramGrid3, scoring=scoring, cv=kfold)\n",
    "\n",
    "#результаты сетки\n",
    "grid_result3 = grid3.fit(X_train_w, y_train_w)\n",
    "\n",
    "print(\"Best: %f using %s\" % (grid_result3.best_score_, grid_result3.best_params_))\n",
    "\n",
    "# сохранение в массив результатов\n",
    "results_white.append(grid_result3.cv_results_['mean_test_score'])\n",
    "names_white.append('BaggingClassifier')\n",
    "\n",
    "# переменные для вывода параметров\n",
    "means = grid_result3.cv_results_['mean_test_score']\n",
    "stds = grid_result3.cv_results_['std_test_score']\n",
    "params = grid_result3.cv_results_['params']\n",
    "\n",
    "# Вывод парметров подбора параметров\n",
    "for mean, stdev, param in zip(means, stds, params):\n",
    "    print(\"%f (%f) with: %r\" % (mean, stdev, param))"
   ]
  },
  {
   "cell_type": "code",
   "execution_count": 19,
   "metadata": {},
   "outputs": [
    {
     "name": "stdout",
     "output_type": "stream",
     "text": [
      "Для белого вина accuracy RandomForest:\n",
      "Best: 0.818261 using {'max_depth': 12, 'n_estimators': 400}\n",
      "0.780922 (0.004651) with: {'max_depth': 6, 'n_estimators': 200}\n",
      "0.777713 (0.002938) with: {'max_depth': 6, 'n_estimators': 400}\n",
      "0.778005 (0.003579) with: {'max_depth': 6, 'n_estimators': 600}\n",
      "0.778005 (0.001873) with: {'max_depth': 6, 'n_estimators': 800}\n",
      "0.778588 (0.004050) with: {'max_depth': 6, 'n_estimators': 900}\n",
      "0.790840 (0.002070) with: {'max_depth': 8, 'n_estimators': 200}\n",
      "0.789673 (0.001174) with: {'max_depth': 8, 'n_estimators': 400}\n",
      "0.792007 (0.001158) with: {'max_depth': 8, 'n_estimators': 600}\n",
      "0.792007 (0.003258) with: {'max_depth': 8, 'n_estimators': 800}\n",
      "0.791424 (0.003604) with: {'max_depth': 8, 'n_estimators': 900}\n",
      "0.802217 (0.003835) with: {'max_depth': 10, 'n_estimators': 200}\n",
      "0.807468 (0.004696) with: {'max_depth': 10, 'n_estimators': 400}\n",
      "0.806009 (0.005366) with: {'max_depth': 10, 'n_estimators': 600}\n",
      "0.805426 (0.004351) with: {'max_depth': 10, 'n_estimators': 800}\n",
      "0.804259 (0.003940) with: {'max_depth': 10, 'n_estimators': 900}\n",
      "0.817970 (0.002523) with: {'max_depth': 12, 'n_estimators': 200}\n",
      "0.818261 (0.003722) with: {'max_depth': 12, 'n_estimators': 400}\n",
      "0.818261 (0.002325) with: {'max_depth': 12, 'n_estimators': 600}\n",
      "0.817095 (0.001277) with: {'max_depth': 12, 'n_estimators': 800}\n",
      "0.817970 (0.002209) with: {'max_depth': 12, 'n_estimators': 900}\n"
     ]
    }
   ],
   "source": [
    "# С помощью инструмента GridSearch выполним подбор параметров для белого вина\n",
    "print('Для белого вина accuracy RandomForest:')\n",
    "\n",
    "# задание параметров сетки\n",
    "paramGrid4 = dict(n_estimators=np.array([200,400,600,800,900]), max_depth = [6,8,10,12] )\n",
    "\n",
    "# зададим модель\n",
    "model4 = RandomForestClassifier(random_state=seed)\n",
    "\n",
    "# кросс-валидация\n",
    "kfold = KFold(n_splits=num_folds, random_state=seed)\n",
    "\n",
    "# сетка\n",
    "grid4 = GridSearchCV(estimator=model4, param_grid=paramGrid4, scoring=scoring, cv=kfold)\n",
    "\n",
    "# результаты сетки\n",
    "grid_result4 = grid4.fit(X_train_w, y_train_w)\n",
    "\n",
    "print(\"Best: %f using %s\" % (grid_result4.best_score_, grid_result4.best_params_))\n",
    "\n",
    "# сохранение в массив результатов\n",
    "results_white.append(grid_result4.cv_results_['mean_test_score'])\n",
    "names_white.append('RandomForest')\n",
    "\n",
    "# переменные для вывода параметров\n",
    "means = grid_result4.cv_results_['mean_test_score']\n",
    "stds = grid_result4.cv_results_['std_test_score']\n",
    "params = grid_result4.cv_results_['params']\n",
    "\n",
    "# Вывод парметров подбора параметров\n",
    "for mean, stdev, param in zip(means, stds, params):\n",
    "    print(\"%f (%f) with: %r\" % (mean, stdev, param))"
   ]
  },
  {
   "cell_type": "markdown",
   "metadata": {},
   "source": [
    "#### Сравним алгоритмы с помощью Boxplot"
   ]
  },
  {
   "cell_type": "code",
   "execution_count": 20,
   "metadata": {},
   "outputs": [
    {
     "data": {
      "image/png": "[encoded data removed]",
      "text/plain": [
       "<Figure size 432x288 with 1 Axes>"
      ]
     },
     "metadata": {
      "needs_background": "light"
     },
     "output_type": "display_data"
    }
   ],
   "source": [
    "fig = pyplot.figure()\n",
    "fig.suptitle('Сравнение алгоритмов после подстройки')\n",
    "ax = fig.add_subplot(111)\n",
    "pyplot.boxplot(results_white)\n",
    "ax.set_xticklabels(names_white)\n",
    "pyplot.show()"
   ]
  },
  {
   "cell_type": "markdown",
   "metadata": {},
   "source": [
    "#### для оценки белого вина на тренирововчной выборке BaggingClasifier имеет наивысшую accuracy"
   ]
  },
  {
   "cell_type": "markdown",
   "metadata": {},
   "source": [
    "### Выполним оценку на тестовой выборке для красного вина"
   ]
  },
  {
   "cell_type": "code",
   "execution_count": 21,
   "metadata": {},
   "outputs": [
    {
     "name": "stdout",
     "output_type": "stream",
     "text": [
      "0.8604166666666667\n",
      "[[ 34  23   0]\n",
      " [ 25 379   2]\n",
      " [  1  16   0]]\n",
      "              precision    recall  f1-score   support\n",
      "\n",
      "           1       0.57      0.60      0.58        57\n",
      "           2       0.91      0.93      0.92       406\n",
      "           3       0.00      0.00      0.00        17\n",
      "\n",
      "   micro avg       0.86      0.86      0.86       480\n",
      "   macro avg       0.49      0.51      0.50       480\n",
      "weighted avg       0.83      0.86      0.85       480\n",
      "\n"
     ]
    }
   ],
   "source": [
    "# Обучим на тренировочных данных\n",
    "model_red = RandomForestClassifier(n_estimators=100, max_depth=10, random_state=seed, class_weight='balanced')\n",
    "model_red.fit(X_train_r, y_train_r)\n",
    "\n",
    "# Выполним оценку на тестовых\n",
    "predictions = model_red.predict(X_test_r)\n",
    "\n",
    "print(accuracy_score(y_test_r, predictions))\n",
    "print(confusion_matrix(y_test_r, predictions))\n",
    "print(classification_report(y_test_r, predictions))"
   ]
  },
  {
   "cell_type": "markdown",
   "metadata": {},
   "source": [
    "### Выполним оценку на тестовой выборке для белого вина"
   ]
  },
  {
   "cell_type": "code",
   "execution_count": 22,
   "metadata": {},
   "outputs": [
    {
     "name": "stdout",
     "output_type": "stream",
     "text": [
      "0.8408163265306122\n",
      "[[ 192  113    0]\n",
      " [  73 1036    8]\n",
      " [   1   39    8]]\n",
      "              precision    recall  f1-score   support\n",
      "\n",
      "           1       0.72      0.63      0.67       305\n",
      "           2       0.87      0.93      0.90      1117\n",
      "           3       0.50      0.17      0.25        48\n",
      "\n",
      "   micro avg       0.84      0.84      0.84      1470\n",
      "   macro avg       0.70      0.57      0.61      1470\n",
      "weighted avg       0.83      0.84      0.83      1470\n",
      "\n"
     ]
    }
   ],
   "source": [
    "# Обучим на тренировочных данных\n",
    "model_white = BaggingClassifier(n_estimators=200, random_state=seed)\n",
    "model_white.fit(X_train_w, y_train_w)\n",
    "\n",
    "# Выполним оценку на тестовых\n",
    "predictions = model_white.predict(X_test_w)\n",
    "\n",
    "print(accuracy_score(y_test_w, predictions))\n",
    "print(confusion_matrix(y_test_w, predictions))\n",
    "print(classification_report(y_test_w, predictions))"
   ]
  },
  {
   "cell_type": "markdown",
   "metadata": {},
   "source": [
    "#### Вывод: из-за несбалансированности классов определение вин качества 1 и 3 (в обоих вин затрудняется)\n",
    "#### * Способы возможного разрешения: регулировка весов малочисленных классов, оверсамплинг малочисленных классов"
   ]
  },
  {
   "cell_type": "markdown",
   "metadata": {},
   "source": [
    "#### попробуем сделать oversampling для классов 1 и 3 \n",
    "### Красное"
   ]
  },
  {
   "cell_type": "code",
   "execution_count": 23,
   "metadata": {},
   "outputs": [],
   "source": [
    "ros = RandomOverSampler(random_state=seed)\n",
    "X_resampled, y_resampled = ros.fit_resample(X_train_r, y_train_r)"
   ]
  },
  {
   "cell_type": "code",
   "execution_count": 24,
   "metadata": {},
   "outputs": [
    {
     "name": "stdout",
     "output_type": "stream",
     "text": [
      "[2 2 1 ... 3 3 3]\n"
     ]
    },
    {
     "data": {
      "image/png": "[encoded data removed]",
      "text/plain": [
       "<Figure size 432x288 with 1 Axes>"
      ]
     },
     "metadata": {
      "needs_background": "light"
     },
     "output_type": "display_data"
    }
   ],
   "source": [
    "U = {'x_vector': y_resampled}\n",
    "sns.countplot(x = 'x_vector', data=U)\n",
    "print(y_resampled)"
   ]
  },
  {
   "cell_type": "code",
   "execution_count": 25,
   "metadata": {},
   "outputs": [
    {
     "name": "stdout",
     "output_type": "stream",
     "text": [
      "0.8333333333333334\n",
      "[[ 38  19   0]\n",
      " [ 34 362  10]\n",
      " [  1  16   0]]\n",
      "              precision    recall  f1-score   support\n",
      "\n",
      "           1       0.52      0.67      0.58        57\n",
      "           2       0.91      0.89      0.90       406\n",
      "           3       0.00      0.00      0.00        17\n",
      "\n",
      "   micro avg       0.83      0.83      0.83       480\n",
      "   macro avg       0.48      0.52      0.50       480\n",
      "weighted avg       0.83      0.83      0.83       480\n",
      "\n"
     ]
    }
   ],
   "source": [
    "# Обучим на тренировочных данных\n",
    "model_red = RandomForestClassifier(n_estimators=100, max_depth=10, random_state=seed)\n",
    "model_red.fit(X_resampled, y_resampled)\n",
    "\n",
    "# Выполним оценку на тестовых до oversampling'а\n",
    "predictions = model_red.predict(X_test_r)\n",
    "\n",
    "print(accuracy_score(y_test_r, predictions))\n",
    "print(confusion_matrix(y_test_r, predictions))\n",
    "print(classification_report(y_test_r, predictions))"
   ]
  },
  {
   "cell_type": "markdown",
   "metadata": {},
   "source": [
    "### Белое"
   ]
  },
  {
   "cell_type": "code",
   "execution_count": 26,
   "metadata": {},
   "outputs": [],
   "source": [
    "# oversampling\n",
    "ros = RandomOverSampler(random_state=seed)\n",
    "X_resampled_white, y_resampled_white = ros.fit_resample(X_train_w, y_train_w)"
   ]
  },
  {
   "cell_type": "code",
   "execution_count": 27,
   "metadata": {},
   "outputs": [
    {
     "name": "stdout",
     "output_type": "stream",
     "text": [
      "[2 2 2 ... 3 3 3]\n"
     ]
    },
    {
     "data": {
      "image/png": "[encoded data removed]",
      "text/plain": [
       "<Figure size 432x288 with 1 Axes>"
      ]
     },
     "metadata": {
      "needs_background": "light"
     },
     "output_type": "display_data"
    }
   ],
   "source": [
    "U_white = {'x_vector': y_resampled_white}\n",
    "sns.countplot(x = 'x_vector', data=U_white)\n",
    "print(y_resampled_white)"
   ]
  },
  {
   "cell_type": "code",
   "execution_count": 28,
   "metadata": {},
   "outputs": [
    {
     "name": "stdout",
     "output_type": "stream",
     "text": [
      "0.8319727891156462\n",
      "[[ 207   96    2]\n",
      " [  97 1005   15]\n",
      " [   0   37   11]]\n",
      "              precision    recall  f1-score   support\n",
      "\n",
      "           1       0.68      0.68      0.68       305\n",
      "           2       0.88      0.90      0.89      1117\n",
      "           3       0.39      0.23      0.29        48\n",
      "\n",
      "   micro avg       0.83      0.83      0.83      1470\n",
      "   macro avg       0.65      0.60      0.62      1470\n",
      "weighted avg       0.83      0.83      0.83      1470\n",
      "\n"
     ]
    }
   ],
   "source": [
    "# Обучим на всех данных\n",
    "model_white = BaggingClassifier(n_estimators=800, random_state=seed)\n",
    "model_white.fit(X_resampled_white, y_resampled_white)\n",
    "\n",
    "# Выполним оценку на тестовых до oversampling'а\n",
    "predictions = model_white.predict(X_test_w)\n",
    "\n",
    "print(accuracy_score(y_test_w, predictions))\n",
    "print(confusion_matrix(y_test_w, predictions))\n",
    "print(classification_report(y_test_w, predictions))"
   ]
  },
  {
   "cell_type": "markdown",
   "metadata": {},
   "source": [
    "##### С помощью оверсамплинга удалось улучшить несколько улучшить отдельные метрики, при этом средние немного ухудшились"
   ]
  },
  {
   "cell_type": "markdown",
   "metadata": {},
   "source": [
    "### Сохраним модели для дальнейшего использования "
   ]
  },
  {
   "cell_type": "code",
   "execution_count": 29,
   "metadata": {},
   "outputs": [
    {
     "name": "stdout",
     "output_type": "stream",
     "text": [
      "Модель обучена!\n"
     ]
    }
   ],
   "source": [
    "#Oversampling для всех данных\n",
    "\n",
    "ros = RandomOverSampler(random_state=seed)\n",
    "X_resampled, y_resampled = ros.fit_resample(X_red, y_red)\n",
    "\n",
    "# для начала обучим модель на всех данных \n",
    "# модель для красного вина\n",
    "\n",
    "model_red_final = RandomForestClassifier(n_estimators=100, max_depth=10, random_state=seed)\n",
    "model_red_final.fit(X_resampled, y_resampled)\n",
    "print ('Модель обучена!')"
   ]
  },
  {
   "cell_type": "code",
   "execution_count": 30,
   "metadata": {},
   "outputs": [
    {
     "data": {
      "text/plain": [
       "['Red_wine_quality_RF.sav']"
      ]
     },
     "execution_count": 30,
     "metadata": {},
     "output_type": "execute_result"
    }
   ],
   "source": [
    "# Сохранение\n",
    "\n",
    "modelName = 'Red_wine_quality_RF.sav'\n",
    "dump(model_red_final, modelName)"
   ]
  },
  {
   "cell_type": "code",
   "execution_count": 31,
   "metadata": {},
   "outputs": [
    {
     "name": "stdout",
     "output_type": "stream",
     "text": [
      "Модель обучена!\n"
     ]
    }
   ],
   "source": [
    "#Oversampling для всех данных\n",
    "\n",
    "ros = RandomOverSampler(random_state=seed)\n",
    "X_resampled, y_resampled = ros.fit_resample(X_white, y_white)\n",
    "\n",
    "# для начала обучим модель на всех данных \n",
    "# модель для белого вина\n",
    "\n",
    "model_white_final = BaggingClassifier(n_estimators=800, random_state=seed)\n",
    "model_white_final.fit(X_resampled, y_resampled)\n",
    "print ('Модель обучена!')"
   ]
  },
  {
   "cell_type": "code",
   "execution_count": 32,
   "metadata": {},
   "outputs": [
    {
     "data": {
      "text/plain": [
       "['White_wine_quality_RF.sav']"
      ]
     },
     "execution_count": 32,
     "metadata": {},
     "output_type": "execute_result"
    }
   ],
   "source": [
    "# Сохранение\n",
    "\n",
    "modelName_w = 'White_wine_quality_RF.sav'\n",
    "dump(model_white_final, modelName_w)"
   ]
  }
 ],
 "metadata": {
  "kernelspec": {
   "display_name": "Python 3",
   "language": "python",
   "name": "python3"
  },
  "language_info": {
   "codemirror_mode": {
    "name": "ipython",
    "version": 3
   },
   "file_extension": ".py",
   "mimetype": "text/x-python",
   "name": "python",
   "nbconvert_exporter": "python",
   "pygments_lexer": "ipython3",
   "version": "3.6.7"
  }
 },
 "nbformat": 4,
 "nbformat_minor": 2
}
