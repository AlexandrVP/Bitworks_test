{
 "cells": [
  {
   "cell_type": "code",
   "execution_count": 4,
   "metadata": {},
   "outputs": [],
   "source": [
    "from sklearn.externals.joblib import load\n",
    "from sklearn.ensemble import BaggingClassifier\n",
    "\n",
    "from flask import Flask\n",
    "from flask_restful import Resource, Api\n",
    "from flask_restful import reqparse"
   ]
  },
  {
   "cell_type": "code",
   "execution_count": 15,
   "metadata": {},
   "outputs": [
    {
     "name": "stdout",
     "output_type": "stream",
     "text": [
      " * Serving Flask app \"__main__\" (lazy loading)\n",
      " * Environment: production\n",
      "   WARNING: Do not use the development server in a production environment.\n",
      "   Use a production WSGI server instead.\n",
      " * Debug mode: off\n"
     ]
    },
    {
     "name": "stderr",
     "output_type": "stream",
     "text": [
      " * Running on http://127.0.0.1:5000/ (Press CTRL+C to quit)\n",
      "127.0.0.1 - - [12/Nov/2018 13:46:32] \"\u001b[37mGET /prediction?fixed%20acidity=9.1&volatile%20acidity=0.59&citric%20acid=0.38&residual%20sugar=1.6&chlorides=0.066&free%20sulfur%20dioxide=34&total%20sulfur%20dioxide=182&density=0.9968&pH=3.23&sulphates=0.38&alcohol=8.5&quality=3 HTTP/1.1\u001b[0m\" 200 -\n"
     ]
    }
   ],
   "source": [
    "app = Flask(__name__)\n",
    "api = Api(app)\n",
    "\n",
    "class Prediction(Resource):\n",
    "    def get(self):\n",
    "        \n",
    "        # Парсер для адресной браузерной строки\n",
    "        parser = reqparse.RequestParser()\n",
    "        parser.add_argument('fixed acidity', type=float, help=' cannot be converted')\n",
    "        parser.add_argument('volatile acidity', type=float, help=' cannot be converted')\n",
    "        parser.add_argument('citric acid', type=float, help=' cannot be converted')\n",
    "        parser.add_argument('residual sugar', type=float, help=' cannot be converted')\n",
    "        parser.add_argument('chlorides', type=float, help=' cannot be converted')\n",
    "        parser.add_argument('free sulfur dioxide', type=float, help=' cannot be converted')\n",
    "        parser.add_argument('total sulfur dioxide', type=float, help=' cannot be converted')\n",
    "        parser.add_argument('density', type=float, help=' cannot be converted')\n",
    "        parser.add_argument('pH', type=float, help=' cannot be converted')\n",
    "        parser.add_argument('sulphates', type=float, help=' cannot be converted')\n",
    "        parser.add_argument('alcohol', type=float, help=' cannot be converted')\n",
    "        parser.add_argument('quality', type=float, help=' cannot be converted')\n",
    "        args = parser.parse_args()\n",
    "        \n",
    "        # признаки за исключчением quality\n",
    "        prediction = predict([[\n",
    "                args['fixed acidity'], \n",
    "                args['volatile acidity'], \n",
    "                args['citric acid'], \n",
    "                args['residual sugar'],\n",
    "                args['chlorides'], \n",
    "                args['free sulfur dioxide'], \n",
    "                args['total sulfur dioxide'],\n",
    "                args['density'], \n",
    "                args['pH'], \n",
    "                args['sulphates'], \n",
    "                args['alcohol']\n",
    "                ]])\n",
    "        \n",
    "        # Функция возвращает\n",
    "        return {\n",
    "#                 'fixed acidity': args['fixed acidity'], \n",
    "#                 'volatile acidity': args['volatile acidity'], \n",
    "#                 'citric acid': args['citric acid'], \n",
    "#                 'residual sugar': args['residual sugar'],\n",
    "#                 'chlorides': args['chlorides'], \n",
    "#                 'free sulfur dioxide': args['free sulfur dioxide'], \n",
    "#                 'total sulfur dioxide': args['total sulfur dioxide'],\n",
    "#                 'density': args['density'], \n",
    "#                 'pH': args['pH'], \n",
    "#                 'sulphates': args['sulphates'], \n",
    "#                 'alcohol':args['alcohol'],\n",
    "                'Wine prediction quality':prediction,\n",
    "                'Wine true quality':args['quality']\n",
    "                  }\n",
    "\n",
    "def predict(InputFeatures):\n",
    "    \n",
    "    # загружаем модель\n",
    "    White_wine_predict_model = load('White_wine_quality_RF.sav')\n",
    "    \n",
    "    # переменная для записи классификации вина\n",
    "    predictInt = White_wine_predict_model.predict(InputFeatures)\n",
    "    \n",
    "    # строка вывода в зависимости от оценки классификатора\n",
    "    if predictInt[0] == 1:\n",
    "        predictString = 'Bad Wine'\n",
    "    elif predictInt[0] == 2:\n",
    "        predictString = 'Average Wine'\n",
    "    elif predictInt[0] == 3:\n",
    "        predictString = 'Good Wine'\n",
    "    else:\n",
    "        predictString = 'null'\n",
    "        \n",
    "    return predictString\n",
    "\n",
    "api.add_resource(Prediction, '/prediction')\n",
    "\n",
    "if __name__ == '__main__':\n",
    "    app.run(debug=False)"
   ]
  },
  {
   "cell_type": "code",
   "execution_count": 3,
   "metadata": {},
   "outputs": [],
   "source": [
    "# import numpy as np\n",
    "\n",
    "# Features = np.asarray([7.4,0.70,0.00,1.9,0.076,11.0,34.0,0.9978,3.51,0.56,9.4])\n",
    "# Features = inputFeatures.reshape(1, -1)\n",
    "# Predict =  predict(Features)\n",
    "\n",
    "# print(Predict)"
   ]
  }
 ],
 "metadata": {
  "kernelspec": {
   "display_name": "Python 3",
   "language": "python",
   "name": "python3"
  },
  "language_info": {
   "codemirror_mode": {
    "name": "ipython",
    "version": 3
   },
   "file_extension": ".py",
   "mimetype": "text/x-python",
   "name": "python",
   "nbconvert_exporter": "python",
   "pygments_lexer": "ipython3",
   "version": "3.6.7"
  }
 },
 "nbformat": 4,
 "nbformat_minor": 2
}
